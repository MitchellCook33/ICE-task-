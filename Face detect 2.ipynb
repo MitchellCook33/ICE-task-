{
 "cells": [
  {
   "cell_type": "code",
   "execution_count": null,
   "id": "d13548d7-44bc-4a0c-bebd-35aca85d6ea7",
   "metadata": {},
   "outputs": [],
   "source": [
    "import pandas as pd\n",
    "import numpy as np\n",
    "import os.path"
   ]
  },
  {
   "cell_type": "code",
   "execution_count": null,
   "id": "a354bf0d-40a9-4869-8454-d122eeb7cca5",
   "metadata": {},
   "outputs": [],
   "source": [
    "f_name = \"face_data.csv\""
   ]
  },
  {
   "cell_type": "code",
   "execution_count": null,
   "id": "ee3dc1fc-2d29-4bd4-a15f-71afb8af14d3",
   "metadata": {},
   "outputs": [],
   "source": [
    "def write (name, data):"
   ]
  },
  {
   "cell_type": "code",
   "execution_count": null,
   "id": "ef6d125a-3e15-46d3-8414-4244458cfd4b",
   "metadata": {},
   "outputs": [],
   "source": [
    "if os.path.isfile(f_name):"
   ]
  },
  {
   "cell_type": "code",
   "execution_count": null,
   "id": "20edf521-eb70-4e21-8876-96871ed35fb8",
   "metadata": {},
   "outputs": [],
   "source": [
    "df = pd.read_csv(f_name, index_col = 0)\n",
    "latest = pd.concat((df, latest), ignore_index = True, sort = False)\n",
    "else:\n",
    "df.to CSV"
   ]
  }
 ],
 "metadata": {
  "kernelspec": {
   "display_name": "anaconda-2024.02-py310",
   "language": "python",
   "name": "conda-env-anaconda-2024.02-py310-py"
  },
  "language_info": {
   "codemirror_mode": {
    "name": "ipython",
    "version": 3
   },
   "file_extension": ".py",
   "mimetype": "text/x-python",
   "name": "python",
   "nbconvert_exporter": "python",
   "pygments_lexer": "ipython3",
   "version": "3.10.14"
  }
 },
 "nbformat": 4,
 "nbformat_minor": 5
}
