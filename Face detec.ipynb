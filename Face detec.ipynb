{
 "cells": [
  {
   "cell_type": "code",
   "execution_count": 1,
   "id": "f73fdcbb-96e5-4fb7-9d9a-3650d9a47668",
   "metadata": {},
   "outputs": [
    {
     "ename": "ModuleNotFoundError",
     "evalue": "No module named 'cv2'",
     "output_type": "error",
     "traceback": [
      "\u001b[0;31m---------------------------------------------------------------------------\u001b[0m",
      "\u001b[0;31mModuleNotFoundError\u001b[0m                       Traceback (most recent call last)",
      "Cell \u001b[0;32mIn[1], line 2\u001b[0m\n\u001b[1;32m      1\u001b[0m \u001b[38;5;28;01mimport\u001b[39;00m \u001b[38;5;21;01mnumpy\u001b[39;00m \u001b[38;5;28;01mas\u001b[39;00m \u001b[38;5;21;01mnp\u001b[39;00m\n\u001b[0;32m----> 2\u001b[0m \u001b[38;5;28;01mimport\u001b[39;00m \u001b[38;5;21;01mcv2\u001b[39;00m\n\u001b[1;32m      3\u001b[0m \u001b[38;5;28;01mimport\u001b[39;00m \u001b[38;5;21;01mnpwriter\u001b[39;00m\n",
      "\u001b[0;31mModuleNotFoundError\u001b[0m: No module named 'cv2'"
     ]
    }
   ],
   "source": [
    "import numpy as np\n",
    "import cv2\n",
    "import npwriter"
   ]
  },
  {
   "cell_type": "code",
   "execution_count": null,
   "id": "83448a77-3275-4b47-bb84-cbf92e44f6e8",
   "metadata": {},
   "outputs": [],
   "source": [
    "name = input(\"Enter you name:  \")"
   ]
  },
  {
   "cell_type": "code",
   "execution_count": null,
   "id": "e1f65c0a-cd8a-4b6c-996c-54608494e101",
   "metadata": {},
   "outputs": [],
   "source": [
    "cap = cv2.VideoCapture(0)"
   ]
  },
  {
   "cell_type": "code",
   "execution_count": null,
   "id": "5423557f-4c92-4114-a8c4-e4682302e4d7",
   "metadata": {},
   "outputs": [],
   "source": [
    "classifier =\n",
    "cv2.CascadeClassifier(\"haarcascade_frontalface_deafult.xml\")"
   ]
  },
  {
   "cell_type": "code",
   "execution_count": null,
   "id": "fd61ccf1-3ca1-416f-bc09-c51db419ff01",
   "metadata": {},
   "outputs": [],
   "source": [
    "f_list = []"
   ]
  },
  {
   "cell_type": "code",
   "execution_count": null,
   "id": "56a41e99-789d-4032-a78f-6b08fc648f7f",
   "metadata": {},
   "outputs": [],
   "source": [
    "while True:\n",
    "    ret, frame = cap.read()"
   ]
  },
  {
   "cell_type": "code",
   "execution_count": null,
   "id": "5ef0e677-9fab-4a9a-a89e-efed0eec9ca2",
   "metadata": {},
   "outputs": [],
   "source": [
    "gray = cv2.cvcolor(frame, cv2.COLOR_BGR2GRAY)"
   ]
  },
  {
   "cell_type": "code",
   "execution_count": null,
   "id": "5bc0fc2f-cd79-4ee2-9929-501c96abcde5",
   "metadata": {},
   "outputs": [],
   "source": [
    "faces = classifier.detectMultiScale(gray, 1.5, 5)"
   ]
  },
  {
   "cell_type": "code",
   "execution_count": null,
   "id": "0d47d611-28a6-4e1a-9500-b3e64760766a",
   "metadata": {},
   "outputs": [],
   "source": [
    "faces = orted(faces, key = lambda x: x[2]*x[3],\n",
    "              reverse = True)"
   ]
  },
  {
   "cell_type": "code",
   "execution_count": null,
   "id": "adf012eb-c3bb-49f3-9ca0-459a15b8bae0",
   "metadata": {},
   "outputs": [],
   "source": [
    "faces = faces[0]"
   ]
  },
  {
   "cell_type": "code",
   "execution_count": null,
   "id": "9b769967-c84e-4575-9257-adb0b530e0e6",
   "metadata": {},
   "outputs": [],
   "source": [
    "if len(faces) == 1:\n",
    "    faces = faces[0]"
   ]
  },
  {
   "cell_type": "code",
   "execution_count": null,
   "id": "9ba32460-2f7d-4796-91ab-1348164897bd",
   "metadata": {},
   "outputs": [],
   "source": [
    "x, y, w, h = face"
   ]
  },
  {
   "cell_type": "code",
   "execution_count": null,
   "id": "480dae0c-a94c-4e10-bd66-3b149c802be9",
   "metadata": {},
   "outputs": [],
   "source": [
    "im_face = frame[y:y + h, x:x + w]"
   ]
  },
  {
   "cell_type": "code",
   "execution_count": null,
   "id": "3edd82a8-977a-4b3a-bb6d-3df1a8fe9839",
   "metadata": {},
   "outputs": [],
   "source": [
    "cv2.imshow(\"face\", im_face)"
   ]
  },
  {
   "cell_type": "code",
   "execution_count": null,
   "id": "f7235c6f-9029-42e7-9d1f-c5ac4a074ea6",
   "metadata": {},
   "outputs": [],
   "source": [
    "if not ret:\n",
    "    continue"
   ]
  },
  {
   "cell_type": "code",
   "execution_count": null,
   "id": "e8d72b61-a77d-4793-8e5c-a528e7ba2301",
   "metadata": {},
   "outputs": [],
   "source": [
    "cv2.imshow(\"full\", frame)"
   ]
  },
  {
   "cell_type": "code",
   "execution_count": null,
   "id": "86db7769-7772-4c02-bdbf-8ef587973d43",
   "metadata": {},
   "outputs": [],
   "source": [
    "key = cv2.waitkey(1)"
   ]
  },
  {
   "cell_type": "code",
   "execution_count": null,
   "id": "38c24b68-2374-4346-ace1-ae876512a238",
   "metadata": {},
   "outputs": [],
   "source": [
    "if key & 0FF == ord('q'):\n",
    "break\n",
    "elif key &0FF == ord('c'):\n",
    "if len(faces) == 1:\n",
    "    gray_face = cv2.cvtcolor(im_face, cv2.COLOR_BGRGRAY)\n",
    "    gray_face = cv2.resize(gray_face, (100, 100))\n",
    "    print(len(f_list), type(gray), gray_face.shape)"
   ]
  },
  {
   "cell_type": "code",
   "execution_count": null,
   "id": "c2b8033f-5e1a-4b98-bfdc-b2098be402f6",
   "metadata": {},
   "outputs": [],
   "source": [
    "f_list.append(gray_face.reshape(-1))\n",
    "else:\n",
    "print(\"face not found\")"
   ]
  },
  {
   "cell_type": "code",
   "execution_count": null,
   "id": "aa47d3ba-b444-42cc-ab0e-1af5b7dbf58e",
   "metadata": {},
   "outputs": [],
   "source": [
    "if len(f_list) == 10:\n",
    "    break"
   ]
  },
  {
   "cell_type": "code",
   "execution_count": null,
   "id": "d6ce01cb-2946-4d5d-9390-03c9f53cac9b",
   "metadata": {},
   "outputs": [],
   "source": [
    "npwriter.write(name, np.array(f_list))\n",
    "cap.release()\n",
    "cv2.destroyAllwindiw()"
   ]
  }
 ],
 "metadata": {
  "kernelspec": {
   "display_name": "anaconda-2024.02-py310",
   "language": "python",
   "name": "conda-env-anaconda-2024.02-py310-py"
  },
  "language_info": {
   "codemirror_mode": {
    "name": "ipython",
    "version": 3
   },
   "file_extension": ".py",
   "mimetype": "text/x-python",
   "name": "python",
   "nbconvert_exporter": "python",
   "pygments_lexer": "ipython3",
   "version": "3.10.14"
  }
 },
 "nbformat": 4,
 "nbformat_minor": 5
}
